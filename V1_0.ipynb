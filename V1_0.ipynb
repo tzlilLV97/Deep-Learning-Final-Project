{
  "nbformat": 4,
  "nbformat_minor": 0,
  "metadata": {
    "colab": {
      "provenance": [],
      "authorship_tag": "ABX9TyNRbjhY1wJYX5jt2YPzp4Q9",
      "include_colab_link": true
    },
    "kernelspec": {
      "name": "python3",
      "display_name": "Python 3"
    },
    "language_info": {
      "name": "python"
    }
  },
  "cells": [
    {
      "cell_type": "markdown",
      "metadata": {
        "id": "view-in-github",
        "colab_type": "text"
      },
      "source": [
        "<a href=\"https://colab.research.google.com/github/tzlilLV97/Deep-Learning-Final-Project/blob/main/V1_0.ipynb\" target=\"_parent\"><img src=\"https://colab.research.google.com/assets/colab-badge.svg\" alt=\"Open In Colab\"/></a>"
      ]
    },
    {
      "cell_type": "markdown",
      "source": [
        "Final Project: \n",
        "\n",
        "Deep learning Course\n",
        "\n",
        "Tzlil Lev or 318646510\n",
        "\n",
        "Alon Feldman - too old to have id number\n",
        "\n",
        "Project Name : Predict League of Legends victory \n",
        "\n",
        "\n",
        "\n",
        "\n",
        "\n"
      ],
      "metadata": {
        "id": "pouqnjo5IbYg"
      }
    },
    {
      "cell_type": "code",
      "execution_count": 1,
      "metadata": {
        "id": "Ykm8lpMmIV3J"
      },
      "outputs": [],
      "source": [
        "import pandas as pd\n",
        "import numpy as np\n",
        "import matplotlib.pyplot as plt\n",
        "import torch\n",
        "import torch.nn as nn\n",
        "import torch.nn.functional as F\n",
        "import torch.optim as optim\n",
        "from sklearn.metrics import classification_report\n",
        "import xgboost as xgb\n",
        "from sklearn import svm\n",
        "from sklearn.neighbors import KNeighborsClassifier"
      ]
    },
    {
      "cell_type": "markdown",
      "source": [
        "**BENCHMARK**\n",
        "\n",
        "In order to evalute our model, we compared it to different models, to \n",
        "\n",
        "observe the results and compare them to our network. \n",
        "\n",
        "We choose the following models:\n",
        "\n",
        "\n",
        "* XGBoost\n",
        "\n",
        "* Random Forest\n",
        "\n",
        "* KNN\n",
        "\n",
        "* SVM\n",
        "\n",
        "The Following Code is the implementation of each of them\n"
      ],
      "metadata": {
        "id": "qoiADTCnI1gA"
      }
    },
    {
      "cell_type": "code",
      "source": [
        "### SVM \n",
        "def svmModel(train, valid, test):\n",
        "    x_train, y_train = train\n",
        "    x_valid, y_valid = valid\n",
        "    x_test, y_test = test\n",
        "    svm_model = svm.SVC()\n",
        "    svm_model.fit(x_train, y_train)\n",
        "    y_pred = svm_model.predict(x_test)\n",
        "    print(\"SVM Accuracy on validation set: {:.2f}%\".format(estimate_accuracy_svm(svm_model, x_valid, y_valid) * 100))\n",
        "    print(\"SVM Accuracy on test set: {:.2f}%\".format(estimate_accuracy_svm(svm_model, x_test, y_test) * 100))\n",
        "\n",
        "\n"
      ],
      "metadata": {
        "id": "gtV8jmQ7JFAB"
      },
      "execution_count": null,
      "outputs": []
    },
    {
      "cell_type": "code",
      "source": [
        "### KNN\n",
        "def estimate_accuracy_KNN(model, data, labels, batch_size=5000, max_N=100000):\n",
        "    \"\"\"\n",
        "    Estimate the accuracy of the model on the data. To reduce\n",
        "    computation time, use at most `max_N` elements of `data` to\n",
        "    produce the estimate.\n",
        "    \"\"\"\n",
        "\n",
        "    correct = 0\n",
        "    N = 0\n",
        "    for i in range(0, len(data), batch_size):\n",
        "        # get a batch of data\n",
        "        xt, st = get_batch(data, labels, i, i + batch_size)\n",
        "        # forward pass prediction\n",
        "        y = model.predict(xt)\n",
        "        pred = np.squeeze(y)\n",
        "        correct += np.sum(pred==st)\n",
        "        N += len(st)\n",
        "        if N > max_N:\n",
        "            break\n",
        "    return correct / N\n",
        "\n",
        "def KNN(train,valid,test):\n",
        "    x_train, y_train = train\n",
        "    x_valid, y_valid = valid\n",
        "    x_test, y_test = test\n",
        "    model = KNeighborsClassifier(n_neighbors=5)\n",
        "    model.fit(x_train, y_train)\n",
        "    y_pred = model.predict(x_test)\n",
        "    print(\"KNN Accuracy on validation set: {:.2f}%\".format(estimate_accuracy_KNN(model, x_valid, y_valid) * 100))\n",
        "    print(\"KNN Accuracy on test set: {:.2f}%\".format(estimate_accuracy_KNN(model, x_test, y_test) * 100))"
      ],
      "metadata": {
        "id": "ejVkFTy1Jcid"
      },
      "execution_count": null,
      "outputs": []
    },
    {
      "cell_type": "code",
      "source": [
        "### XGBoost\n",
        "def compare_xgb_predictions(xgb_model, X, y):\n",
        "    # Make predictions using the trained model\n",
        "    xgb_predictions = xgb_model.predict(X)\n",
        "\n",
        "    # Round the predictions to 0 or 1\n",
        "    xgb_predictions = [round(pred) for pred in xgb_predictions]\n",
        "\n",
        "    # Compare the predictions with the real labels\n",
        "    correct = 0\n",
        "    total = len(y)\n",
        "    for pred, label in zip(xgb_predictions, y):\n",
        "        if pred == label:\n",
        "            correct += 1\n",
        "    # Calculate the accuracy of the predictions\n",
        "    accuracy = correct / total\n",
        "\n",
        "    return accuracy\n",
        "def xgb_classifier(train,valid,test):\n",
        "    x_train, y_train = train\n",
        "    x_valid, y_valid = valid\n",
        "    x_test, y_test = test\n",
        "    #  Write your code here\n",
        "    model = xgb.XGBClassifier()\n",
        "    model.fit(x_train, y_train)\n",
        "    y_pred = model.predict(x_test)\n",
        "  #  print(classification_report(y_test, y_pred))\n",
        "    print(\"XGB Accuracy on validation set: {:.2f}%\".format(compare_xgb_predictions(model, x_valid, y_valid) * 100))\n",
        "    print(\"XGB Accuracy on test set: {:.2f}%\".format(compare_xgb_predictions(model, x_test, y_test) * 100))\n",
        "          #\"compare_xgb_predictions(model, x_test, y_test))"
      ],
      "metadata": {
        "id": "Ir-gjlfpJiaA"
      },
      "execution_count": null,
      "outputs": []
    },
    {
      "cell_type": "markdown",
      "source": [
        "Neural Network implementation: \n",
        "\n"
      ],
      "metadata": {
        "id": "LG_OIabxJ0GY"
      }
    },
    {
      "cell_type": "code",
      "source": [
        "class PyTorchMLP(nn.Module):\n",
        "    def __init__(self, num_hidden=5):\n",
        "        super(PyTorchMLP, self).__init__()\n",
        "        self.input_size = 27#input_size\n",
        "        self.hidden_size = 50#hidden_size\n",
        "        self.fc1 = torch.nn.Linear(self.input_size, self.hidden_size)\n",
        "        self.relu = torch.nn.ReLU()\n",
        "        self.fc2 = torch.nn.Linear(self.hidden_size, self.hidden_size)\n",
        "        self.fc3 = torch.nn.Linear(self.hidden_size, 1)\n",
        "        self.fc4 = torch.nn.Linear(self.hidden_size, self.hidden_size)\n",
        "        self.fc5 = torch.nn.Linear(self.hidden_size, 1)\n",
        "        self.sigmoid = torch.nn.Sigmoid()\n",
        "    # self.flatten = nn.Flatten()\n",
        "    #     self.linear_relu_stack = nn.Sequential(\n",
        "    #         nn.Linear(27, num_hidden),\n",
        "    #         nn.ReLU(),\n",
        "    #         nn.Linear(num_hidden, num_hidden),\n",
        "    #         nn.ReLU(),\n",
        "    #         nn.Linear(num_hidden, 1),\n",
        "    #         nn.ReLU()\n",
        "    #     )\n",
        "        # self.layer1 = nn.Linear(27, num_hidden)\n",
        "        # self.layer2 = nn.Linear(num_hidden, 1)\n",
        "     #   self.num_hidden = num_hidden\n",
        "    def forward(self, inp):\n",
        "        hidden = self.fc1(inp)\n",
        "        relu = self.sigmoid(hidden)\n",
        "        ofc2 = self.fc2(relu)\n",
        "        relu = self.relu(ofc2)\n",
        "        ofc3 = self.fc3(relu)\n",
        "        output = self.sigmoid(ofc3)\n",
        "        return output\n",
        "        inp = self.flatten(inp)\n",
        "        return self.linear_relu_stack(inp)\n",
        "        inp1 = self.layer1(inp)\n",
        "        return self.layer2(inp1)\n",
        "        # TODO: complete this function\n",
        "        # Note that we will be using the nn.CrossEntropyLoss(), which computes the softmax operation internally, as loss criterion"
      ],
      "metadata": {
        "id": "mCWdurRHKY_S"
      },
      "execution_count": null,
      "outputs": []
    },
    {
      "cell_type": "markdown",
      "source": [
        "Accuracy estimation "
      ],
      "metadata": {
        "id": "5jEgvJKGKeeQ"
      }
    },
    {
      "cell_type": "code",
      "source": [
        "\n",
        "def get_batch(data,labels, start, end):\n",
        "    x = data[start:end]\n",
        "    s = labels[start:end]\n",
        "    return x, s\n",
        "\n",
        "\n",
        "def estimate_accuracy_torch(model, data, labels, batch_size=5000, max_N=100000):\n",
        "    \"\"\"\n",
        "    Estimate the accuracy of the model on the data. To reduce\n",
        "    computation time, use at most `max_N` elements of `data` to\n",
        "    produce the estimate.\n",
        "    \"\"\"\n",
        "\n",
        "    correct = 0\n",
        "    N = 0\n",
        "    for i in range(0, len(data), batch_size):\n",
        "        # get a batch of data\n",
        "        xt, st = get_batch(data, labels, i, i + batch_size)\n",
        "        # forward pass prediction\n",
        "        y = model(torch.Tensor(xt))\n",
        "        y = y.detach().numpy()  # convert the PyTorch tensor => numpy array\n",
        "        y = np.where(y > 0.5, 1, 0)\n",
        "        pred = np.squeeze(y)\n",
        "        correct += np.sum(pred==st)\n",
        "        N += len(st)\n",
        "\n",
        "        if N > max_N:\n",
        "            break\n",
        "    return correct / N\n",
        "\n",
        "\n",
        "  "
      ],
      "metadata": {
        "id": "i1qED1TEKfuX"
      },
      "execution_count": null,
      "outputs": []
    }
  ]
}